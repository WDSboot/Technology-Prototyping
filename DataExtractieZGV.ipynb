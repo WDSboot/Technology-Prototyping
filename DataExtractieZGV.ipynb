{
 "cells": [
  {
   "cell_type": "code",
   "execution_count": 11,
   "metadata": {},
   "outputs": [
    {
     "name": "stdout",
     "output_type": "stream",
     "text": [
      "        id                                               text  compound  \\\n",
      "0      0.0  Before Corona, the phone was simply answered a...    0.0000   \n",
      "1      1.0  Very sweet and caring staff in the mdl and sur...    0.0000   \n",
      "2      2.0  Last Friday I called the hospital for my 2 yea...   -0.5697   \n",
      "3      3.0  Costs if they call you is 60 euros per minute ...   -0.2382   \n",
      "4      4.0  Let our son with a huge thick elbow sit for mo...    0.0000   \n",
      "..     ...                                                ...       ...   \n",
      "163  163.0  (Translated by Google) You can only dream of a...    0.8051   \n",
      "164  164.0  (Translated by Google) I have not made any pro...    0.5106   \n",
      "165  165.0  (Translated by Google) It was fine :). Thank y...    0.3612   \n",
      "166  166.0  (Translated by Google) Very good hospital\\n\\n(...    0.7496   \n",
      "167  167.0  (Translated by Google) Waiting hours\\n\\n(Origi...    0.0000   \n",
      "\n",
      "       neg    neu    pos  \n",
      "0    0.000  0.000  0.000  \n",
      "1    0.000  1.000  0.000  \n",
      "2    0.424  0.576  0.000  \n",
      "3    0.042  0.958  0.000  \n",
      "4    0.000  1.000  0.000  \n",
      "..     ...    ...    ...  \n",
      "163  0.000  0.727  0.273  \n",
      "164  0.000  0.377  0.623  \n",
      "165  0.000  0.286  0.714  \n",
      "166  0.000  0.556  0.444  \n",
      "167  0.000  1.000  0.000  \n",
      "\n",
      "[168 rows x 6 columns]\n"
     ]
    }
   ],
   "source": [
    "import pandas as pd\n",
    "from deep_translator import (GoogleTranslator,\n",
    "                             PonsTranslator,\n",
    "                             LingueeTranslator,\n",
    "                             MyMemoryTranslator,\n",
    "                             YandexTranslator,\n",
    "                             single_detection,\n",
    "                             batch_detection)\n",
    "import nltk\n",
    "from nltk.tokenize import sent_tokenize\n",
    "from nltk.sentiment.vader import SentimentIntensityAnalyzer\n",
    "from nltk.sentiment import SentimentAnalyzer\n",
    "\n",
    "# Haalt info uit csv op.\n",
    "dfDutch = pd.read_csv(\"GoogleReviewsZGVNoEmpty.csv\")\n",
    "\n",
    "dfSentiment = pd.DataFrame.from_dict({\n",
    "    \"id\":[],\n",
    "    \"text\": [],\n",
    "    \"compound\": [],\n",
    "    \"neg\":[],\n",
    "    \"neu\":[],\n",
    "    \"pos\":[],\n",
    "})\n",
    "\n",
    "\n",
    "index = 0\n",
    "\n",
    "#Loop die er voor zorgt dat alle vertaalde reviews wordt uitgeprint\n",
    "for col_name, review in dfDutch.iterrows():\n",
    " \n",
    "    translated = GoogleTranslator(source='dutch', target='english').translate(text=dfDutch.loc[col_name]['review_text'])\n",
    "    tokenized = sent_tokenize(translated)\n",
    "    for line in tokenized:     \n",
    "        sia = SentimentIntensityAnalyzer()\n",
    "        ss = sia.polarity_scores(line)\n",
    "        dfTemp = pd.DataFrame.from_dict({\n",
    "                            \"id\":[col_name],\n",
    "                            \"text\": [translated],\n",
    "                            \"compound\": [ss[\"compound\"]],\n",
    "                            \"neg\":[ss[\"neg\"]],\n",
    "                            \"neu\":[ss[\"neu\"]],\n",
    "                            \"pos\":[ss[\"pos\"]],\n",
    "                            })\n",
    "        index = index + 1\n",
    "    dfSentiment = pd.concat([dfSentiment, dfTemp], ignore_index=True)\n",
    "        #dfSentiment = dfSentiment.append({'id': index,'text': translated, 'compound': ss[\"compound\"], 'neg': ss[\"neg\"], 'neu': ss[\"neu\"], 'pos': ss[\"pos\"]}, ignore_index=True)\n",
    "\n",
    "print(dfSentiment)\n"
   ]
  }
 ],
 "metadata": {
  "kernelspec": {
   "display_name": "Python 3.10.7 64-bit (microsoft store)",
   "language": "python",
   "name": "python3"
  },
  "language_info": {
   "codemirror_mode": {
    "name": "ipython",
    "version": 3
   },
   "file_extension": ".py",
   "mimetype": "text/x-python",
   "name": "python",
   "nbconvert_exporter": "python",
   "pygments_lexer": "ipython3",
   "version": "3.10.7"
  },
  "orig_nbformat": 4,
  "vscode": {
   "interpreter": {
    "hash": "178ea9d8614524b768b73220b78679c77d0685b51afda7c8daa5d177208930c7"
   }
  }
 },
 "nbformat": 4,
 "nbformat_minor": 2
}
